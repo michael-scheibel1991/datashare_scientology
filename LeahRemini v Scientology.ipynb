{
 "cells": [
  {
   "cell_type": "markdown",
   "metadata": {},
   "source": [
    "# Pulling Scientology Followers Data with Tweepy\n",
    "**By:** _Mike Scheibel_ "
   ]
  },
  {
   "cell_type": "code",
   "execution_count": 1,
   "metadata": {},
   "outputs": [],
   "source": [
    "import datetime\n",
    "import tweepy\n",
    "from pprint import pprint\n",
    "\n",
    "# I've put my API keys in a .py file called API_keys.py\n",
    "from Mike_API_Keys import api_key, api_key_secret, access_token, access_token_secret"
   ]
  },
  {
   "cell_type": "code",
   "execution_count": 2,
   "metadata": {},
   "outputs": [],
   "source": [
    "# Authenticate the Tweepy API\n",
    "auth = tweepy.OAuthHandler(api_key,api_key_secret)\n",
    "auth.set_access_token(access_token, access_token_secret)\n",
    "api = tweepy.API(auth,wait_on_rate_limit=True,wait_on_rate_limit_notify=True)"
   ]
  },
  {
   "cell_type": "markdown",
   "metadata": {},
   "source": [
    "## Collecting Followers"
   ]
  },
  {
   "cell_type": "code",
   "execution_count": 3,
   "metadata": {},
   "outputs": [
    {
     "name": "stdout",
     "output_type": "stream",
     "text": [
      "0:00:01.097445\n"
     ]
    }
   ],
   "source": [
    "# I'm putting the handles in a list to iterate through below\n",
    "handles = ['LeahRemini','Scientology']\n",
    "\n",
    "# Create dictionary to hold follower IDs\n",
    "id_dict = dict() \n",
    "\n",
    "# Intialize dictionary.\n",
    "for handle in handles :\n",
    "    id_dict[handle] = []\n",
    "\n",
    "# Grabs the time when we start making requests to the API\n",
    "start_time = datetime.datetime.now()\n",
    "\n",
    "for handle in id_dict :\n",
    "    \n",
    "    # Let's grab the first page of IDs\n",
    "    for page in tweepy.Cursor(api.followers_ids,\n",
    "                              wait_on_rate_limit=True,\n",
    "                              wait_on_rate_limit_notify=True, \n",
    "                              compression=True,\n",
    "                              screen_name=handle).pages():\n",
    "\n",
    "        # The page variable comes back as a list, so we have to use .extend rather than .append\n",
    "        id_dict[handle].extend(page)\n",
    "        \n",
    "        break\n",
    "        \n",
    "# Let's see how long it took to grab all follower IDs\n",
    "end_time = datetime.datetime.now()\n",
    "elapsed_time = end_time - start_time\n",
    "print(elapsed_time)"
   ]
  },
  {
   "cell_type": "code",
   "execution_count": 4,
   "metadata": {},
   "outputs": [
    {
     "name": "stdout",
     "output_type": "stream",
     "text": [
      "LeahRemini has 5000 followers in our dictionary.\n",
      "Scientology has 5000 followers in our dictionary.\n"
     ]
    }
   ],
   "source": [
    "# let's make sure it worked\n",
    "for handle in id_dict :\n",
    "    print(f\"{handle} has {len(id_dict[handle])} followers in our dictionary.\")"
   ]
  },
  {
   "cell_type": "code",
   "execution_count": 7,
   "metadata": {},
   "outputs": [],
   "source": [
    "def get_screen_names(twitter_api, list_of_ids, list_for_screen_names):\n",
    "    \n",
    "    start=0 #we have feed the API 100 ID's at a time, this will iterate through them\n",
    "    end=0\n",
    "    followers=[]\n",
    "    while end-1 <= len(list_of_ids): #quit when we get past the end of our list\n",
    "        end += 100 #update the end of our slice\n",
    "        if end <= len(list_of_ids): #split into if else statement to slice correctly\n",
    "            try:\n",
    "                followers_temp = twitter_api.lookup_users(list_of_ids[start:end])\n",
    "            except tweepy.TweepError as err:\n",
    "                if err.api_code in (103,88) :\n",
    "                    print('sleeping, 900 seconds')\n",
    "                    time.sleep(900)\n",
    "                else :\n",
    "                    print(err)\n",
    "        else:        \n",
    "            try:\n",
    "                followers_temp = twitter_api.lookup_users(list_of_ids[start:])\n",
    "            except tweepy.TweepError as err:\n",
    "                if err.api_code in (103,88) :\n",
    "                    print('sleeping, 900 seconds')\n",
    "                    time.sleep(900)\n",
    "                else :\n",
    "                    print(err)\n",
    "                    \n",
    "        followers.extend(followers_temp)\n",
    "        start = end #update our starting slice index for next loop\n",
    "        \n",
    "    list_for_screen_names.extend(followers)"
   ]
  },
  {
   "cell_type": "code",
   "execution_count": 8,
   "metadata": {},
   "outputs": [
    {
     "name": "stdout",
     "output_type": "stream",
     "text": [
      "[{'code': 17, 'message': 'No user matches for specified terms.'}]\n",
      "[{'code': 17, 'message': 'No user matches for specified terms.'}]\n"
     ]
    }
   ],
   "source": [
    "user_dict = dict() \n",
    "\n",
    "for handle in id_dict :\n",
    "    user_dict[handle] = []\n",
    "    \n",
    "for handle in user_dict :\n",
    "    get_screen_names(api,id_dict[handle],user_dict[handle])"
   ]
  },
  {
   "cell_type": "code",
   "execution_count": 9,
   "metadata": {},
   "outputs": [
    {
     "name": "stdout",
     "output_type": "stream",
     "text": [
      "LeahRemini has 5100 followers in our dictionary.\n",
      "Scientology has 5099 followers in our dictionary.\n"
     ]
    }
   ],
   "source": [
    "for handle in user_dict :\n",
    "    print(f\"{handle} has {len(user_dict[handle])} followers in our dictionary.\") "
   ]
  },
  {
   "cell_type": "code",
   "execution_count": 10,
   "metadata": {},
   "outputs": [
    {
     "name": "stderr",
     "output_type": "stream",
     "text": [
      "Rate limit reached. Sleeping for: 534\n",
      "Rate limit reached. Sleeping for: 537\n",
      "Rate limit reached. Sleeping for: 533\n",
      "Rate limit reached. Sleeping for: 534\n",
      "Rate limit reached. Sleeping for: 529\n",
      "Rate limit reached. Sleeping for: 531\n",
      "Rate limit reached. Sleeping for: 530\n",
      "Rate limit reached. Sleeping for: 533\n",
      "Rate limit reached. Sleeping for: 530\n",
      "Rate limit reached. Sleeping for: 525\n",
      "Rate limit reached. Sleeping for: 531\n"
     ]
    }
   ],
   "source": [
    "headers = ['screen_name','name','id','location','followers_count','friends_count','description']\n",
    "\n",
    "for team in id_dict.keys():\n",
    "    \n",
    "    # Descriptions with emoji or non-Roman letters can cause trouble. Encoding your .txt file in utf-8 will help\n",
    "    with open(f'{team}_followers.txt','w', encoding='utf-8') as out_file:\n",
    "        out_file.write('\\t'.join(headers) + '\\n')\n",
    "\n",
    "        for idx, ids in enumerate(id_dict[team]):\n",
    "            \n",
    "            # For accounts set to private, we won't be able to get the description unless we follow them\n",
    "            # Putting in a try/except statement, we can get around this issue.\n",
    "            try:\n",
    "                user = api.get_user(ids)\n",
    "                description = str(user.description).replace('\\t',' ').replace('\\n',' ')\n",
    "                outline = [user.screen_name,user.name,user.id,\n",
    "                    user.location,user.followers_count,user.friends_count,\n",
    "                    user.description]\n",
    "                \n",
    "                out_file.write('\\t'.join([str(item) for item in outline]) + '\\n')\n",
    "                \n",
    "            except:\n",
    "                continue\n",
    "                \n"
   ]
  },
  {
   "cell_type": "markdown",
   "metadata": {},
   "source": [
    "## Tokenize and Analyse Text"
   ]
  },
  {
   "cell_type": "code",
   "execution_count": 11,
   "metadata": {},
   "outputs": [],
   "source": [
    "import nltk\n",
    "import numpy as np\n",
    "\n",
    "from string import punctuation\n",
    "from collections import Counter\n",
    "\n",
    "from pprint import pprint # get some prettier printing of objects\n",
    "\n",
    "from nltk.corpus import stopwords\n",
    "\n",
    "sw = set(stopwords.words('english'))"
   ]
  },
  {
   "cell_type": "markdown",
   "metadata": {},
   "source": [
    "**Text for Leah Remini**"
   ]
  },
  {
   "cell_type": "code",
   "execution_count": 12,
   "metadata": {},
   "outputs": [],
   "source": [
    "leahremini = open(\"LeahRemini_followers.txt\", encoding='utf-8').read()\n",
    "\n",
    "leahremini_clean = [w for w in leahremini.lower().split()]\n",
    "leahremini_clean = [w.lower() for w in leahremini_clean if w.isalpha() and w not in sw]"
   ]
  },
  {
   "cell_type": "code",
   "execution_count": 17,
   "metadata": {
    "scrolled": false
   },
   "outputs": [
    {
     "data": {
      "text/plain": [
       "{'tokens': 28750,\n",
       " 'unique_tokens': 12218,\n",
       " 'avg_token_length': 6.07495652173913,\n",
       " 'lexical_diversity': 0.42497391304347826,\n",
       " 'top_20': [('usa', 424),\n",
       "  ('love', 200),\n",
       "  ('new', 171),\n",
       "  ('ca', 165),\n",
       "  ('tx', 134),\n",
       "  ('mom', 115),\n",
       "  ('life', 113),\n",
       "  ('like', 110),\n",
       "  ('ny', 97),\n",
       "  ('united', 91),\n",
       "  ('los', 89),\n",
       "  ('states', 84),\n",
       "  ('fl', 77),\n",
       "  ('san', 73),\n",
       "  ('proud', 68),\n",
       "  ('lover', 61),\n",
       "  ('world', 55),\n",
       "  ('living', 55),\n",
       "  ('music', 54),\n",
       "  ('one', 53)]}"
      ]
     },
     "execution_count": 17,
     "metadata": {},
     "output_type": "execute_result"
    }
   ],
   "source": [
    "total_tokens = len(leahremini_clean)\n",
    "unique_tokens = len(set(leahremini_clean))\n",
    "lex_diversity = len(set(leahremini_clean))/len(leahremini_clean)\n",
    "avg_token_len = np.mean([len(w) for w in leahremini_clean])\n",
    "top_20 = Counter(leahremini_clean).most_common(20)\n",
    "\n",
    "results = {'tokens':total_tokens,\n",
    "            'unique_tokens':unique_tokens,\n",
    "            'avg_token_length':avg_token_len,\n",
    "            'lexical_diversity':lex_diversity,\n",
    "            'top_20':top_20}\n",
    "\n",
    "results"
   ]
  },
  {
   "cell_type": "markdown",
   "metadata": {},
   "source": [
    "**Text for Scientology**"
   ]
  },
  {
   "cell_type": "code",
   "execution_count": 14,
   "metadata": {},
   "outputs": [],
   "source": [
    "scientology = open(\"Scientology_followers.txt\", encoding='utf-8').read()\n",
    "\n",
    "scientology_clean = [w for w in scientology.lower().split()]\n",
    "scientology_clean = [w.lower() for w in scientology_clean if w.isalpha() and w not in sw]"
   ]
  },
  {
   "cell_type": "code",
   "execution_count": 18,
   "metadata": {},
   "outputs": [
    {
     "data": {
      "text/plain": [
       "{'tokens': 32683,\n",
       " 'unique_tokens': 15426,\n",
       " 'avg_token_length': 6.124498975002295,\n",
       " 'lexical_diversity': 0.4719884955481443,\n",
       " 'top_20': [('usa', 279),\n",
       "  ('de', 227),\n",
       "  ('love', 191),\n",
       "  ('new', 155),\n",
       "  ('united', 136),\n",
       "  ('ca', 131),\n",
       "  ('la', 127),\n",
       "  ('life', 125),\n",
       "  ('south', 108),\n",
       "  ('states', 97),\n",
       "  ('los', 95),\n",
       "  ('en', 88),\n",
       "  ('el', 86),\n",
       "  ('england', 81),\n",
       "  ('ny', 80),\n",
       "  ('fl', 77),\n",
       "  ('world', 76),\n",
       "  ('africa', 75),\n",
       "  ('like', 70),\n",
       "  ('music', 68)]}"
      ]
     },
     "execution_count": 18,
     "metadata": {},
     "output_type": "execute_result"
    }
   ],
   "source": [
    "total_tokens = len(scientology_clean)\n",
    "unique_tokens = len(set(scientology_clean))\n",
    "lex_diversity = len(set(scientology_clean))/len(scientology_clean)\n",
    "avg_token_len = np.mean([len(w) for w in scientology_clean])\n",
    "top_20 = Counter(scientology_clean).most_common(20)\n",
    "\n",
    "results = {'tokens':total_tokens,\n",
    "            'unique_tokens':unique_tokens,\n",
    "            'avg_token_length':avg_token_len,\n",
    "            'lexical_diversity':lex_diversity,\n",
    "            'top_20':top_20}\n",
    "\n",
    "results"
   ]
  },
  {
   "cell_type": "code",
   "execution_count": null,
   "metadata": {},
   "outputs": [],
   "source": []
  }
 ],
 "metadata": {
  "kernelspec": {
   "display_name": "Python 3",
   "language": "python",
   "name": "python3"
  },
  "language_info": {
   "codemirror_mode": {
    "name": "ipython",
    "version": 3
   },
   "file_extension": ".py",
   "mimetype": "text/x-python",
   "name": "python",
   "nbconvert_exporter": "python",
   "pygments_lexer": "ipython3",
   "version": "3.8.3"
  }
 },
 "nbformat": 4,
 "nbformat_minor": 4
}
