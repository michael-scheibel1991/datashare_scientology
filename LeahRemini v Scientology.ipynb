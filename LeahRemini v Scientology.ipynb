{
 "cells": [
  {
   "cell_type": "markdown",
   "metadata": {},
   "source": [
    "# Pulling Scientology Followers Data with Tweepy\n",
    "**By:** _Mike Scheibel_ "
   ]
  },
  {
   "cell_type": "code",
   "execution_count": 1,
   "metadata": {},
   "outputs": [],
   "source": [
    "import datetime\n",
    "import tweepy\n",
    "from pprint import pprint\n",
    "\n",
    "# I've put my API keys in a .py file called API_keys.py\n",
    "from Mike_API_Keys import api_key, api_key_secret, access_token, access_token_secret"
   ]
  },
  {
   "cell_type": "code",
   "execution_count": 2,
   "metadata": {},
   "outputs": [],
   "source": [
    "# Authenticate the Tweepy API\n",
    "auth = tweepy.OAuthHandler(api_key,api_key_secret)\n",
    "auth.set_access_token(access_token, access_token_secret)\n",
    "api = tweepy.API(auth,wait_on_rate_limit=True,wait_on_rate_limit_notify=True)"
   ]
  },
  {
   "cell_type": "markdown",
   "metadata": {},
   "source": [
    "## Collecting Followers"
   ]
  },
  {
   "cell_type": "code",
   "execution_count": 3,
   "metadata": {},
   "outputs": [
    {
     "name": "stdout",
     "output_type": "stream",
     "text": [
      "0:00:01.146087\n"
     ]
    }
   ],
   "source": [
    "# I'm putting the handles in a list to iterate through below\n",
    "handles = ['LeahRemini','Scientology']\n",
    "\n",
    "# Create dictionary to hold follower IDs\n",
    "id_dict = dict() \n",
    "\n",
    "# Intialize dictionary.\n",
    "for handle in handles :\n",
    "    id_dict[handle] = []\n",
    "\n",
    "# Grabs the time when we start making requests to the API\n",
    "start_time = datetime.datetime.now()\n",
    "\n",
    "for handle in id_dict :\n",
    "    \n",
    "    # Let's grab the first page of IDs\n",
    "    for page in tweepy.Cursor(api.followers_ids,\n",
    "                              wait_on_rate_limit=True,\n",
    "                              wait_on_rate_limit_notify=True, \n",
    "                              compression=True,\n",
    "                              screen_name=handle).pages():\n",
    "\n",
    "        # The page variable comes back as a list, so we have to use .extend rather than .append\n",
    "        id_dict[handle].extend(page)\n",
    "        \n",
    "        break\n",
    "        \n",
    "# Let's see how long it took to grab all follower IDs\n",
    "end_time = datetime.datetime.now()\n",
    "elapsed_time = end_time - start_time\n",
    "print(elapsed_time)"
   ]
  },
  {
   "cell_type": "code",
   "execution_count": 19,
   "metadata": {},
   "outputs": [
    {
     "name": "stdout",
     "output_type": "stream",
     "text": [
      "LeahRemini has 5000 followers in our dictionary.\n",
      "Scientology has 5000 followers in our dictionary.\n"
     ]
    }
   ],
   "source": [
    "# let's make sure it worked\n",
    "for handle in id_dict :\n",
    "    print(f\"{handle} has {len(id_dict[handle])} followers in our dictionary.\")"
   ]
  },
  {
   "cell_type": "code",
   "execution_count": 17,
   "metadata": {},
   "outputs": [],
   "source": [
    "def get_screen_names(twitter_api, list_of_ids, list_for_screen_names):\n",
    "    \n",
    "    start=100 #we have feed the API 100 ID's at a time, this will iterate through them\n",
    "    end=0\n",
    "    followers=[]\n",
    "    while end-1 <= len(list_of_ids): #quit when we get past the end of our list\n",
    "        end += 1000 #update the end of our slice\n",
    "        if end <= len(list_of_ids): #split into if else statement to slice correctly\n",
    "            try:\n",
    "                followers_temp = twitter_api.lookup_users(list_of_ids[start:end])\n",
    "            except tweepy.TweepError as err:\n",
    "                if err.api_code in (103,88) :\n",
    "                    print('sleeping, 900 seconds')\n",
    "                    time.sleep(900)\n",
    "                else :\n",
    "                    print(err)\n",
    "        else:        \n",
    "            try:\n",
    "                followers_temp = twitter_api.lookup_users(list_of_ids[start:])\n",
    "            except tweepy.TweepError as err:\n",
    "                if err.api_code in (103,88) :\n",
    "                    print('sleeping, 900 seconds')\n",
    "                    time.sleep(900)\n",
    "                else :\n",
    "                    print(err)\n",
    "                    \n",
    "        followers.extend(followers_temp)\n",
    "        start = end #update our starting slice index for next loop\n",
    "        \n",
    "    list_for_screen_names.extend(followers)"
   ]
  },
  {
   "cell_type": "code",
   "execution_count": 25,
   "metadata": {},
   "outputs": [
    {
     "ename": "NameError",
     "evalue": "name 'id_dict' is not defined",
     "output_type": "error",
     "traceback": [
      "\u001b[1;31m---------------------------------------------------------------------------\u001b[0m",
      "\u001b[1;31mNameError\u001b[0m                                 Traceback (most recent call last)",
      "\u001b[1;32m<ipython-input-25-275e7f88bfd4>\u001b[0m in \u001b[0;36m<module>\u001b[1;34m\u001b[0m\n\u001b[0;32m      1\u001b[0m \u001b[0muser_dict\u001b[0m \u001b[1;33m=\u001b[0m \u001b[0mdict\u001b[0m\u001b[1;33m(\u001b[0m\u001b[1;33m)\u001b[0m\u001b[1;33m\u001b[0m\u001b[1;33m\u001b[0m\u001b[0m\n\u001b[0;32m      2\u001b[0m \u001b[1;33m\u001b[0m\u001b[0m\n\u001b[1;32m----> 3\u001b[1;33m \u001b[1;32mfor\u001b[0m \u001b[0mhandle\u001b[0m \u001b[1;32min\u001b[0m \u001b[0mid_dict\u001b[0m \u001b[1;33m:\u001b[0m\u001b[1;33m\u001b[0m\u001b[1;33m\u001b[0m\u001b[0m\n\u001b[0m\u001b[0;32m      4\u001b[0m     \u001b[0muser_dict\u001b[0m\u001b[1;33m[\u001b[0m\u001b[0mhandle\u001b[0m\u001b[1;33m]\u001b[0m \u001b[1;33m=\u001b[0m \u001b[1;33m[\u001b[0m\u001b[1;33m]\u001b[0m\u001b[1;33m\u001b[0m\u001b[1;33m\u001b[0m\u001b[0m\n\u001b[0;32m      5\u001b[0m \u001b[1;33m\u001b[0m\u001b[0m\n",
      "\u001b[1;31mNameError\u001b[0m: name 'id_dict' is not defined"
     ]
    }
   ],
   "source": [
    "user_dict = dict() \n",
    "\n",
    "for handle in id_dict :\n",
    "    user_dict[handle] = []\n",
    "    \n",
    "for handle in user_dict :\n",
    "    get_screen_names(api,id_dict[handle],user_dict[handle])"
   ]
  },
  {
   "cell_type": "code",
   "execution_count": 15,
   "metadata": {},
   "outputs": [
    {
     "name": "stdout",
     "output_type": "stream",
     "text": [
      "LeahRemini has 1700 followers in our dictionary.\n",
      "Scientology has 1700 followers in our dictionary.\n"
     ]
    }
   ],
   "source": [
    "for handle in user_dict :\n",
    "    print(f\"{handle} has {len(user_dict[handle])} followers in our dictionary.\") "
   ]
  },
  {
   "cell_type": "code",
   "execution_count": 16,
   "metadata": {},
   "outputs": [],
   "source": [
    "headers = ['screen_name','name','id','location','followers_count','friends_count','description']\n",
    "\n",
    "for team in id_dict.keys():\n",
    "    \n",
    "    # Descriptions with emoji or non-Roman letters can cause trouble. Encoding your .txt file in utf-8 will help\n",
    "    with open(f'{team}_followers.txt','w', encoding='utf-8') as out_file:\n",
    "        out_file.write('\\t'.join(headers) + '\\n')\n",
    "\n",
    "        for idx, ids in enumerate(id_dict[team]):\n",
    "            \n",
    "            # For accounts set to private, we won't be able to get the description unless we follow them\n",
    "            # Putting in a try/except statement, we can get around this issue.\n",
    "            try:\n",
    "                user = api.get_user(ids)\n",
    "                description = str(user.description).replace('\\t',' ').replace('\\n',' ')\n",
    "                outline = [user.screen_name,user.name,user.id,\n",
    "                    user.location,user.followers_count,user.friends_count,\n",
    "                    user.description]\n",
    "                \n",
    "                out_file.write('\\t'.join([str(item) for item in outline]) + '\\n')\n",
    "                \n",
    "            except:\n",
    "                continue\n",
    "                \n",
    "            if idx == 100:\n",
    "                break"
   ]
  },
  {
   "cell_type": "markdown",
   "metadata": {},
   "source": [
    "## Tokenize and Analyse Text"
   ]
  },
  {
   "cell_type": "code",
   "execution_count": 1,
   "metadata": {},
   "outputs": [],
   "source": [
    "import nltk\n",
    "import numpy as np\n",
    "\n",
    "from string import punctuation\n",
    "from collections import Counter\n",
    "\n",
    "from pprint import pprint # get some prettier printing of objects\n",
    "\n",
    "from nltk.corpus import stopwords\n",
    "\n",
    "sw = set(stopwords.words('english'))"
   ]
  },
  {
   "cell_type": "markdown",
   "metadata": {},
   "source": [
    "**Text for Leah Remini**"
   ]
  },
  {
   "cell_type": "code",
   "execution_count": 19,
   "metadata": {},
   "outputs": [],
   "source": [
    "leahremini = open(\"LeahRemini_followers.txt\", encoding='utf-8').read()\n",
    "\n",
    "leahremini_clean = [w for w in leahremini.lower().split()]\n",
    "leahremini_clean = [w.lower() for w in leahremini_clean if w.isalpha() and w not in sw]"
   ]
  },
  {
   "cell_type": "code",
   "execution_count": 22,
   "metadata": {},
   "outputs": [
    {
     "data": {
      "text/plain": [
       "{'tokens': 590,\n",
       " 'unique_tokens': 516,\n",
       " 'avg_token_length': 6.161016949152542,\n",
       " 'lexical_diversity': 0.8745762711864407,\n",
       " 'top_10': [('living', 6),\n",
       "  ('life', 6),\n",
       "  ('love', 4),\n",
       "  ('like', 4),\n",
       "  ('state', 3),\n",
       "  ('san', 3),\n",
       "  ('tx', 3),\n",
       "  ('ca', 3),\n",
       "  ('usa', 3),\n",
       "  ('colorado', 3)]}"
      ]
     },
     "execution_count": 22,
     "metadata": {},
     "output_type": "execute_result"
    }
   ],
   "source": [
    "total_tokens = len(leahremini_clean)\n",
    "unique_tokens = len(set(leahremini_clean))\n",
    "lex_diversity = len(set(leahremini_clean))/len(leahremini_clean)\n",
    "avg_token_len = np.mean([len(w) for w in leahremini_clean])\n",
    "top_10 = Counter(leahremini_clean).most_common(10)\n",
    "\n",
    "results = {'tokens':total_tokens,\n",
    "            'unique_tokens':unique_tokens,\n",
    "            'avg_token_length':avg_token_len,\n",
    "            'lexical_diversity':lex_diversity,\n",
    "            'top_10':top_10}\n",
    "\n",
    "results"
   ]
  },
  {
   "cell_type": "markdown",
   "metadata": {},
   "source": [
    "**Text for Scientology**"
   ]
  },
  {
   "cell_type": "code",
   "execution_count": 23,
   "metadata": {},
   "outputs": [],
   "source": [
    "scientology = open(\"Scientology_followers.txt\", encoding='utf-8').read()\n",
    "\n",
    "scientology_clean = [w for w in scientology.lower().split()]\n",
    "scientology_clean = [w.lower() for w in scientology_clean if w.isalpha() and w not in sw]"
   ]
  },
  {
   "cell_type": "code",
   "execution_count": 24,
   "metadata": {},
   "outputs": [
    {
     "data": {
      "text/plain": [
       "{'tokens': 533,\n",
       " 'unique_tokens': 466,\n",
       " 'avg_token_length': 6.25703564727955,\n",
       " 'lexical_diversity': 0.874296435272045,\n",
       " 'top_10': [('love', 8),\n",
       "  ('usa', 7),\n",
       "  ('name', 3),\n",
       "  ('god', 3),\n",
       "  ('jonathan', 3),\n",
       "  ('like', 3),\n",
       "  ('jesus', 3),\n",
       "  ('nc', 3),\n",
       "  ('england', 3),\n",
       "  ('opheliaevermore', 2)]}"
      ]
     },
     "execution_count": 24,
     "metadata": {},
     "output_type": "execute_result"
    }
   ],
   "source": [
    "total_tokens = len(scientology_clean)\n",
    "unique_tokens = len(set(scientology_clean))\n",
    "lex_diversity = len(set(scientology_clean))/len(scientology_clean)\n",
    "avg_token_len = np.mean([len(w) for w in scientology_clean])\n",
    "top_10 = Counter(scientology_clean).most_common(10)\n",
    "\n",
    "results = {'tokens':total_tokens,\n",
    "            'unique_tokens':unique_tokens,\n",
    "            'avg_token_length':avg_token_len,\n",
    "            'lexical_diversity':lex_diversity,\n",
    "            'top_10':top_10}\n",
    "\n",
    "results"
   ]
  }
 ],
 "metadata": {
  "kernelspec": {
   "display_name": "Python 3",
   "language": "python",
   "name": "python3"
  },
  "language_info": {
   "codemirror_mode": {
    "name": "ipython",
    "version": 3
   },
   "file_extension": ".py",
   "mimetype": "text/x-python",
   "name": "python",
   "nbconvert_exporter": "python",
   "pygments_lexer": "ipython3",
   "version": "3.8.3"
  }
 },
 "nbformat": 4,
 "nbformat_minor": 4
}
